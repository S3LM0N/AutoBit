{
 "cells": [
  {
   "cell_type": "code",
   "execution_count": 1,
   "metadata": {},
   "outputs": [
    {
     "name": "stdout",
     "output_type": "stream",
     "text": [
      "\n",
      "\n",
      "Autobit.\n",
      "\n",
      "\n",
      "현재 잔액 =  54757.94964477 KRW\n"
     ]
    }
   ],
   "source": [
    "\n",
    "import pyupbit\n",
    "print(\"\\n\\nAutobit.\\n\\n\")\n",
    "\n",
    "try:\n",
    "    AK = \"XNZxdYXZD5pjqab5fzJLnx9iVWZxuJYPj59ZWxZE\"\n",
    "    SK = \"P8QrzR4byKVxWeWa0NTJJNdxsB4UPi2Y6TqKveZ5\"\n",
    "    Upbit_Object = pyupbit.Upbit(AK, SK)\n",
    "except:\n",
    "    print(\"Upbit_Object Create Fail. Please Check API KEY . EXIT\") \n",
    "    exit() \n",
    "\n",
    "\n",
    "print(\n",
    "    \"현재 잔액 = \" , \n",
    "    Upbit_Object.get_balances()[0]['balance'], \n",
    "    Upbit_Object.get_balances()[0]['currency'], \n",
    ")\n",
    "\n",
    "if (Upbit_Object.get_balances()[0]['balance'] == 'KRW' and \n",
    "    Upbit_Object.get_balances()[0]['currency'] < 5000): \n",
    "    print(\"KRW Balance < 5000. Please Charge KRW. EXIT\") \n",
    "    exit() \n"
   ]
  },
  {
   "cell_type": "code",
   "execution_count": 2,
   "metadata": {},
   "outputs": [],
   "source": [
    "\n",
    "# Current Price\n",
    "def Current_Price(Ticker):\n",
    "    Price = -1\n",
    "    try:\n",
    "        Price = pyupbit.get_current_price(Ticker)\n",
    "        while True :\n",
    "            if Price != -1 : break \n",
    "        if Price == 0:\n",
    "            print(\"FNC(Current_Price)_ Price==0 . EXIT\") \n",
    "            exit() \n",
    "    except:\n",
    "        print(\"FNC(Current_Price)_ Except . EXIT\") \n",
    "        exit() \n",
    "    return Price"
   ]
  },
  {
   "cell_type": "code",
   "execution_count": 3,
   "metadata": {},
   "outputs": [],
   "source": [
    "\n",
    "# Current Balance\n",
    "def Current_Balance(Ticker):\n",
    "    Balance = -1\n",
    "    try:\n",
    "        while True :\n",
    "            Balance = Upbit_Object.get_balance(Ticker)\n",
    "            if Balance != -1 : break \n",
    "    except:\n",
    "        print(\"FNC(Current_Balance)_ Except . EXIT\") \n",
    "        exit() \n",
    "    return Balance"
   ]
  },
  {
   "cell_type": "code",
   "execution_count": 4,
   "metadata": {},
   "outputs": [],
   "source": [
    "\n",
    "# OHLCV 시가(Open), 고가(High), 저가(Low), 종가(Close), 거래량(Volume)\n",
    "def Get_OHLCV(Ticker, Interval, Count):\n",
    "    try:\n",
    "        Price = pyupbit.get_ohlcv(Ticker, interval=Interval, count=Count)\n",
    "        while True :\n",
    "            if len(Price) == Count : break \n",
    "    except:\n",
    "        print(\"FNC(Current_OHLCV)_ Except . EXIT\") \n",
    "        exit()\n",
    "    return Price"
   ]
  },
  {
   "cell_type": "code",
   "execution_count": null,
   "metadata": {},
   "outputs": [],
   "source": []
  },
  {
   "cell_type": "code",
   "execution_count": 5,
   "metadata": {},
   "outputs": [],
   "source": [
    "\n",
    "# Get_Tickers (KRW, BTC, USDT)\n",
    "def Get_Tickers(Unit):\n",
    "    try:\n",
    "        Tickers = pyupbit.get_tickers(fiat=Unit)\n",
    "        if len(Tickers) == 0:\n",
    "            print(\"FNC(Get_Tickers)_ Lenth==0 . EXIT\") \n",
    "            exit() \n",
    "    except:\n",
    "        print(\"FNC(Get_Tickers)_ Except . EXIT\") \n",
    "        exit() \n",
    "    return Tickers\n"
   ]
  },
  {
   "cell_type": "code",
   "execution_count": 6,
   "metadata": {},
   "outputs": [],
   "source": [
    "\n",
    "import ta\n",
    "def BBND(DF, W):\n",
    "    DF['Upper'] = ta.volatility.bollinger_hband(close=DF['close'], window=W, window_dev=2)\n",
    "    DF['Lower'] = ta.volatility.bollinger_lband(close=DF['close'], window=W, window_dev=2)\n",
    "    DF  = DF[W:] \n",
    "    return DF\n"
   ]
  },
  {
   "cell_type": "code",
   "execution_count": 7,
   "metadata": {},
   "outputs": [],
   "source": [
    "\n",
    "import ta\n",
    "def MACD(DF, W_F, W_S, W_Si):\n",
    "    DF['MACD'] = ta.trend.macd_signal(close=DF['close'], window_slow = W_S, window_fast = W_F, window_sign = W_Si)\n",
    "    DF['MACD_S'] = ta.trend.macd(close=DF['close'], window_slow = W_S, window_fast = W_F)\n",
    "    DF  = DF[W_S+3:] \n",
    "    return DF"
   ]
  },
  {
   "cell_type": "code",
   "execution_count": 8,
   "metadata": {},
   "outputs": [],
   "source": [
    "\n",
    "import ta\n",
    "def RSI(DF, W):\n",
    "    DF['RSI'] = ta.momentum.rsi(close=DF['close'], window = W)\n",
    "    DF  = DF[W:] \n",
    "    return DF"
   ]
  },
  {
   "cell_type": "code",
   "execution_count": 9,
   "metadata": {},
   "outputs": [],
   "source": [
    "\n",
    "import ta\n",
    "def MA(DF, W):\n",
    "    DF['MA'] = ta.trend.sma_indicator(close=DF['close'], window = W)\n",
    "    DF  = DF[W:] \n",
    "    return DF"
   ]
  },
  {
   "cell_type": "code",
   "execution_count": 10,
   "metadata": {},
   "outputs": [],
   "source": [
    "\n",
    "def Get_DF(T, OHLCV_I, OHLCV_P, MACD_F, MACD_S, MACD_Si, BBND_W, RSI_W, MA_W):\n",
    "    DF = Get_OHLCV(T, OHLCV_I, OHLCV_P + MACD_S + BBND_W + MA_W)\n",
    "    DF = BBND(DF, BBND_W)\n",
    "    DF = MACD(DF, MACD_F, MACD_S, MACD_Si)\n",
    "    DF = RSI(DF, RSI_W)\n",
    "    DF = MA(DF, MA_W)\n",
    "    return DF"
   ]
  },
  {
   "cell_type": "code",
   "execution_count": 11,
   "metadata": {},
   "outputs": [
    {
     "name": "stderr",
     "output_type": "stream",
     "text": [
      "Importing plotly failed. Interactive plots will not work.\n"
     ]
    }
   ],
   "source": [
    "import numpy as np \n",
    "import pandas as pd \n",
    "import time\n",
    "from fbprophet import Prophet\n",
    "import matplotlib.pyplot as plt\n",
    "from datetime import datetime\n",
    "from sklearn.preprocessing import MinMaxScaler"
   ]
  },
  {
   "cell_type": "code",
   "execution_count": null,
   "metadata": {},
   "outputs": [],
   "source": [
    "Gain_ = Rate_ = Gain = Rate = 0\n",
    "\n",
    "Buy_Price = 5500 # S\n",
    "\n",
    "Deal_Commission = 0.05 # %\n",
    "\n",
    "for Ticker in Get_Tickers(\"KRW\"): \n",
    "    globals()['BT_{}'. format(Ticker)], globals()['BP_{}'. format(Ticker)] = \"0\", 0\n",
    "    globals()['ST_{}'. format(Ticker)], globals()['SP_{}'. format(Ticker)] = \"0\", 0\n",
    "    globals()['Gain_{}'. format(Ticker)], globals()['Rate_{}'. format(Ticker)] = 0, 0\n",
    "\n",
    "Tickers = []\n",
    "for Ticker in Get_Tickers(\"KRW\"):\n",
    "    if (Current_Price(Ticker) > 0) : Tickers.append(Ticker)\n",
    "    time.sleep(0.1)\n",
    "Tickers.remove('KRW-NU')\n",
    "Buy_Ticker = 0\n",
    "\n",
    "while True:\n",
    "\n",
    "    for Ticker in Tickers: #Get_Tickers(\"KRW\") [\"KRW-BTC\"]\n",
    "\n",
    "        DF = Get_DF(Ticker, \"minute10\", 20     , 10    , 20    , 5      , 20    , 5    , 20  )\n",
    "            #Get_DF(T     , OHLCV_I  , OHLCV_P, MACD_F, MACD_S, MACD_Si, BBND_W, RSI_W, MA_W)\n",
    "        BT, BP = globals()['BT_{}'. format(Ticker)], globals()['BP_{}'. format(Ticker)]\n",
    "        ST, SP = globals()['ST_{}'. format(Ticker)], globals()['SP_{}'. format(Ticker)]\n",
    "\n",
    "        # BUY RULE # 1\n",
    "        # MAX LOW   \n",
    "        if (\n",
    "            (DF['close'] < DF['Lower']).iloc[-1] and\n",
    "            (DF['Lower'].iloc[-1] > Current_Price(Ticker)) and\n",
    "            (DF['close'].iloc[-1] > Current_Price(Ticker)) and \n",
    "            (DF['RSI'].iloc[-1] < 20) and \n",
    "            #(DF['RSI'].iloc[-2] < DF['RSI'].iloc[-1]) and \n",
    "            (DF['MA'].iloc[-1] > Current_Price(Ticker)) and \n",
    "            #(DF['MACD'].iloc[-1] < 0) and \n",
    "            #(DF['MACD_S'].iloc[-1] < 0) and \n",
    "            ((int)(float(Upbit_Object.get_balances()[0]['balance'])) > Buy_Price + (Buy_Price * 0.01 * Deal_Commission) ) and\n",
    "            (Current_Balance(Ticker) == 0)\n",
    "            ):\n",
    "                BT = DF.index[-1]\n",
    "                BP = Buy_Price + (Buy_Price * 0.01 * Deal_Commission)\n",
    "                print(\"매수\", BT, Ticker, Rate_, BP)\n",
    "\n",
    "                #BUY\n",
    "                Upbit_Object.buy_market_order(Ticker, Buy_Price)\n",
    "\n",
    "        # SELL RULE # 1\n",
    "        # BBAND_HIGHSTRIKE   \n",
    "        if (\n",
    "            (DF['close'] > DF['Upper']).iloc[-1] and \n",
    "            (Current_Balance(Ticker) > 0)\n",
    "            #(BP < Current_Balance(Ticker))\n",
    "            ):\n",
    "\n",
    "                ST = DF.index[-1]\n",
    "                SP = Current_Balance(Ticker)\n",
    "                \n",
    "                Gain_ = SP - BP\n",
    "                Rate_ = (((Current_Balance(Ticker) + (Current_Balance(Ticker) * 0.01 * Deal_Commission)) / BP) * 100 - 100)\n",
    "\n",
    "                Gain += Gain_\n",
    "                Rate += Rate_\n",
    "\n",
    "                print(\"매도\", ST, Ticker, Current_Balance(Ticker), \"%\\n Total Rate\", Rate, \"%\", \"%\\n Rule 1\")\n",
    "\n",
    "                #SELL\n",
    "                Upbit_Object.sell_market_order(Ticker, Current_Balance(Ticker))\n",
    "\n",
    "        # SELL RULE # 2\n",
    "        # MACD_UPTO0\n",
    "        elif ( \n",
    "             (DF['MACD'].iloc[-1] > 0) and \n",
    "             (DF['MACD_S'].iloc[-1] > 0) and   \n",
    "             (Current_Balance(Ticker) > 0)\n",
    "             #(BP < Current_Balance(Ticker))\n",
    "            ):\n",
    "\n",
    "                ST = DF.index[-1]\n",
    "                SP = Current_Balance(Ticker)\n",
    "\n",
    "                Gain_ = SP - BP\n",
    "                Rate_ = (((Current_Balance(Ticker) + (Current_Balance(Ticker) * 0.01 * Deal_Commission)) / BP) * 100 - 100)\n",
    "\n",
    "                Gain += Gain_\n",
    "                Rate += Rate_\n",
    "\n",
    "                print(\"매도\", ST, Ticker, Current_Balance(Ticker), \"%\\n Total Rate\", Rate, \"%\", \"%\\n Rule 2\")\n",
    "\n",
    "                #SELL\n",
    "                Upbit_Object.sell_market_order(Ticker, Current_Balance(Ticker))\n",
    "\n",
    "        # SELL RULE # 3\n",
    "        # MACD_DIFF\n",
    "        elif ( \n",
    "            (DF['MACD'].iloc[-1] < DF['MACD_S'].iloc[-1]) and\n",
    "            (Current_Balance(Ticker) > 0)\n",
    "            #(BP < Current_Balance(Ticker))\n",
    "            ):\n",
    "\n",
    "                ST = DF.index[-1]\n",
    "                SP = Current_Balance(Ticker)\n",
    "\n",
    "                Gain_ = SP - BP\n",
    "                Rate_ = (((Current_Balance(Ticker) + (Current_Balance(Ticker) * 0.01 * Deal_Commission)) / BP) * 100 - 100)\n",
    "\n",
    "                Gain += Gain_\n",
    "                Rate += Rate_\n",
    "\n",
    "                print(\"매도\", ST, Ticker, Current_Balance(Ticker), \"%\\n Total Rate\", Rate, \"%\", \"%\\n Rule 3\")\n",
    "\n",
    "                #SELL\n",
    "                Upbit_Object.sell_market_order(Ticker, Current_Balance(Ticker))\n",
    "\n",
    "        # SELL RULE # 4\n",
    "        # RSI_HIGH\n",
    "        elif ( \n",
    "            (DF['RSI'].iloc[-1] > 70) and\n",
    "            (Current_Balance(Ticker) > 0)\n",
    "            #(BP < Current_Balance(Ticker))\n",
    "            ):\n",
    "\n",
    "                ST = DF.index[-1]\n",
    "                SP = Current_Balance(Ticker)\n",
    "\n",
    "                Gain_ = SP - BP\n",
    "                Rate_ = (((Current_Balance(Ticker) + (Current_Balance(Ticker) * 0.01 * Deal_Commission)) / BP) * 100)\n",
    "\n",
    "                Gain += Gain_\n",
    "                Rate += Rate_\n",
    "\n",
    "                print(\"매도\", ST, Ticker, Current_Balance(Ticker), \"%\\n Total Rate\", Rate, \"%\", \"%\\n Rule 4\")\n",
    "\n",
    "                #SELL\n",
    "                Upbit_Object.sell_market_order(Ticker, Current_Balance(Ticker))\n",
    "\n",
    "        globals()['Gain_{}'. format(Ticker)] = Gain_\n",
    "        globals()['Rate_{}'. format(Ticker)] = Rate_\n",
    "        \n",
    "        globals()['BT_{}'. format(Ticker)], globals()['BP_{}'. format(Ticker)] = BT, BP\n",
    "        globals()['ST_{}'. format(Ticker)], globals()['SP_{}'. format(Ticker)] = ST, SP\n",
    "            \n",
    "        time.sleep(0.15)\n"
   ]
  },
  {
   "cell_type": "code",
   "execution_count": null,
   "metadata": {},
   "outputs": [
    {
     "data": {
      "text/plain": [
       "0"
      ]
     },
     "execution_count": 54,
     "metadata": {},
     "output_type": "execute_result"
    }
   ],
   "source": [
    "Current_Balance(Ticker)"
   ]
  }
 ],
 "metadata": {
  "interpreter": {
   "hash": "478bb4a894d48d28e226bca91ab202dc7c85ddb78042a3f39231b8338f8d6883"
  },
  "kernelspec": {
   "display_name": "Python 3.10.1 64-bit",
   "language": "python",
   "name": "python3"
  },
  "language_info": {
   "codemirror_mode": {
    "name": "ipython",
    "version": 3
   },
   "file_extension": ".py",
   "mimetype": "text/x-python",
   "name": "python",
   "nbconvert_exporter": "python",
   "pygments_lexer": "ipython3",
   "version": "3.7.11"
  },
  "orig_nbformat": 4
 },
 "nbformat": 4,
 "nbformat_minor": 2
}
